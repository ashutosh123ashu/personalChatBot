{
 "cells": [
  {
   "cell_type": "code",
   "execution_count": null,
   "id": "37144be7",
   "metadata": {},
   "outputs": [],
   "source": [
    "import os \n",
    "from dotenv import load_dotenv\n",
    "from openai import OpenAI\n",
    "from PyPDF2 import PdfReader\n",
    "import requests\n",
    "import json\n",
    "import gradio as gr\n",
    "\n"
   ]
  },
  {
   "cell_type": "code",
   "execution_count": null,
   "id": "b66ed6a1",
   "metadata": {},
   "outputs": [],
   "source": [
    "load_dotenv(override=True)\n",
    "gemini_api_key= os.getenv('GOOGLE_API_KEY')\n",
    "\n",
    "if gemini_api_key:\n",
    "    print (\"Api key exists \")\n",
    "else:\n",
    "    print(\"API key does not exists\")"
   ]
  },
  {
   "cell_type": "code",
   "execution_count": null,
   "id": "528fc903",
   "metadata": {},
   "outputs": [],
   "source": [
    "pushover_user = os.getenv(\"PUSHOVER_USER\")\n",
    "pushover_token = os.getenv(\"PUSHOVER_TOKEN\")\n",
    "\n",
    "\n",
    "if pushover_user:\n",
    "    print (\"pushover_user exists \")\n",
    "else:\n",
    "    print(\"pushover_user does not exists\")\n",
    "\n",
    "if pushover_token:\n",
    "    print (\"pushover_token exists \")\n",
    "else:\n",
    "    print(\"pushover_token does not exists\")\n"
   ]
  },
  {
   "cell_type": "code",
   "execution_count": null,
   "id": "f44fe882",
   "metadata": {},
   "outputs": [],
   "source": [
    "pushover_url = \"https://api.pushover.net/1/messages.json\"\n",
    "\n",
    "def push(message):\n",
    "    print (f\"push : {message}\")\n",
    "    payload = {\"user\": pushover_user, \"token\": pushover_token, \"message\":message}\n",
    "    requests.post(pushover_url, data=payload)"
   ]
  },
  {
   "cell_type": "code",
   "execution_count": null,
   "id": "037c621a",
   "metadata": {},
   "outputs": [],
   "source": [
    "push(\"How are you ashu Ji??\")"
   ]
  },
  {
   "cell_type": "code",
   "execution_count": null,
   "id": "bac9f620",
   "metadata": {},
   "outputs": [],
   "source": [
    "def record_user_details(email, name=\"Not provided\", notes=\"Not provided\"):\n",
    "    push(f\"recording interest from {name} with email {email} and notes {notes}\")\n",
    "    return{\"recorded\": \"OK\"}\n"
   ]
  },
  {
   "cell_type": "code",
   "execution_count": null,
   "id": "273181b6",
   "metadata": {},
   "outputs": [],
   "source": [
    "def record_unknown_questions(question):\n",
    "    push(f\"Recording {question} that is asked which i could not answer!!\")\n",
    "    return {\"Recorded\": \"OK\"}"
   ]
  },
  {
   "cell_type": "code",
   "execution_count": null,
   "id": "937cf37c",
   "metadata": {},
   "outputs": [],
   "source": [
    "record_user_details_json = {\n",
    "    \"name\": \"record_user_details\",\n",
    "    \"description\": \"Use this tool to record an user that is interested in connecting and provided email address\",\n",
    "    \"parameters\": {\n",
    "        \"type\": \"object\",\n",
    "        \"properties\" : {\n",
    "            \"email\" : {\n",
    "                \"type\": \"string\",\n",
    "                \"description\": \"The email address of the user\"\n",
    "            },\n",
    "            \"name\": {\n",
    "                \"type\": \"string\",\n",
    "                \"description\": \"The Users name, if they provided it\"\n",
    "            },\n",
    "            \"notes\": {\n",
    "                \"type\": \"string\",\n",
    "                \"description\": \"Additional information about conbversation that worth recording\"\n",
    "            },\n",
    "            \"required\": [\"email\"],\n",
    "            \"additionalProperties\": \"False\"\n",
    "        }\n",
    "    }\n",
    "\n",
    "}"
   ]
  },
  {
   "cell_type": "code",
   "execution_count": null,
   "id": "b865017a",
   "metadata": {},
   "outputs": [],
   "source": [
    "record_unknown_questions_json = {\n",
    "    \"name\": \"record_unknown_questions\",\n",
    "    \"description\": \"Always use this tool to record any question that you couldn't be answered as you don't know the answer\",\n",
    "    \"parameters\": {\n",
    "        \"type\": \"object\",\n",
    "        \"properties\": {\n",
    "            \"question\": {\n",
    "                \"type\": \"question\",\n",
    "                \"description\": \"The question that couldn't be answered\"\n",
    "            },\n",
    "            \"required\": [\"question\"],\n",
    "            \"additionalProperties\": \"False\"\n",
    "        }\n",
    "    }\n",
    "}"
   ]
  },
  {
   "cell_type": "code",
   "execution_count": null,
   "id": "a3cf7094",
   "metadata": {},
   "outputs": [],
   "source": [
    "tools = [{\"type\":\"function\", \"function\": record_user_details_json},\n",
    "         {\"type\":\"function\", \"function\": record_unknown_questions_json}]"
   ]
  },
  {
   "cell_type": "code",
   "execution_count": null,
   "id": "8fc1a9f8",
   "metadata": {},
   "outputs": [],
   "source": [
    "tools"
   ]
  },
  {
   "cell_type": "code",
   "execution_count": null,
   "id": "796f4169",
   "metadata": {},
   "outputs": [],
   "source": [
    "# Function which will handle tools calls based on if else\n",
    "def handle_tools_call(tools_calls):\n",
    "    results= []\n",
    "    for tool_call in tools_calls:\n",
    "        tool_name = tool_call.function.name\n",
    "        arguments = json.loads(tool_call.function.arguments)\n",
    "        print(f\"Tool called {tool_name}\", flush=True)\n",
    "\n",
    "        if tool_name == \"record_user_details\":\n",
    "            result = record_user_details(**arguments)\n",
    "        elif tool_name == \"record_unknown_questions\":\n",
    "            result = record_unknown_questions(**arguments)\n",
    "        \n",
    "        results.append({\"role\": \"tool\", \"content\": json.dumps(result), \"tool_call_id\": tool_call.id})"
   ]
  },
  {
   "cell_type": "code",
   "execution_count": null,
   "id": "5a91e077",
   "metadata": {},
   "outputs": [],
   "source": [
    "globals()[\"record_unknown_questions\"](\"This is really hard question\")"
   ]
  },
  {
   "cell_type": "code",
   "execution_count": null,
   "id": "bd530cff",
   "metadata": {},
   "outputs": [],
   "source": [
    "GEMINI_BASE_URL= \"https://generativelanguage.googleapis.com/v1beta/openai/\"\n",
    "gemini = OpenAI(\n",
    "    base_url=GEMINI_BASE_URL,\n",
    "    api_key=gemini_api_key\n",
    ")"
   ]
  },
  {
   "cell_type": "code",
   "execution_count": null,
   "id": "eb173f0c",
   "metadata": {},
   "outputs": [],
   "source": [
    "reader = PdfReader(\"../LinkedInProfile.pdf\")\n",
    "linkedin = \"\"\n",
    "for page in reader.pages:\n",
    "    text = page.extract_text()\n",
    "    if text:\n",
    "        linkedin += text\n",
    "\n",
    "print(\"linkedin\")"
   ]
  },
  {
   "cell_type": "code",
   "execution_count": null,
   "id": "6deb9370",
   "metadata": {},
   "outputs": [],
   "source": [
    "with open(\"../summary.txt\", \"r\", encoding=\"utf-8\") as f:\n",
    "    summary = f.read()\n",
    "\n",
    "name = \"Ashutosh Jha\""
   ]
  },
  {
   "cell_type": "code",
   "execution_count": null,
   "id": "2424cfbd",
   "metadata": {},
   "outputs": [],
   "source": [
    "system_prompt = f\"You are acting as {name}. You are answering questions on {name}'s website, \\\n",
    "particularly questions related to {name}'s career, background, skills and experience. \\\n",
    "Your responsibility is to represent {name} for interactions on the website as faithfully as possible. \\\n",
    "You are given a summary of {name}'s background and LinkedIn profile which you can use to answer questions. \\\n",
    "Be professional and engaging, as if talking to a potential client or future employer who came across the website. \\\n",
    "If you don't know the answer to any question, use your record_unknown_question tool to record the question that you couldn't answer, even if it's about something trivial or unrelated to career. \\\n",
    "If the user is engaging in discussion, try to steer them towards getting in touch via email; ask for their email and record it using your record_user_details tool. \"\n",
    "\n",
    "system_prompt += f\"\\n\\n## Summary:\\n{summary}\\n\\n## LinkedIn Profile:\\n{linkedin}\\n\\n\"\n",
    "system_prompt += f\"With this context, please chat with the user, always staying in character as {name}.\""
   ]
  },
  {
   "cell_type": "code",
   "execution_count": null,
   "id": "5ac413c7",
   "metadata": {},
   "outputs": [],
   "source": [
    "def chat(message, history):\n",
    "    messages = [{\"role\":\"system\", \"content\":system_prompt}] + history + [{\"role\": \"user\", \"content\": message}]\n",
    "    done = False\n",
    "    while not done:\n",
    "        response = gemini.chat.completions.create( model=\"gemini-2.0-flash\", messages=messages)\n",
    "        finish_reason =response.choices[0].finish_reason\n",
    "\n",
    "        if finish_reason == \"tool_calls\":\n",
    "            message= response.choices[0].message\n",
    "            tool_calls = message.tool_calls\n",
    "            results = handle_tools_call(tool_calls)\n",
    "            messages.append(message)\n",
    "            messages.extend(results)\n",
    "        else:\n",
    "            done = True\n",
    "\n",
    "    return response.choices[0].message.content\n"
   ]
  },
  {
   "cell_type": "code",
   "execution_count": null,
   "id": "3f61c151",
   "metadata": {},
   "outputs": [],
   "source": [
    "gr.ChatInterface(chat, type=\"messages\").launch()"
   ]
  },
  {
   "cell_type": "code",
   "execution_count": null,
   "id": "3f552517",
   "metadata": {},
   "outputs": [],
   "source": []
  }
 ],
 "metadata": {
  "kernelspec": {
   "display_name": ".venv",
   "language": "python",
   "name": "python3"
  },
  "language_info": {
   "codemirror_mode": {
    "name": "ipython",
    "version": 3
   },
   "file_extension": ".py",
   "mimetype": "text/x-python",
   "name": "python",
   "nbconvert_exporter": "python",
   "pygments_lexer": "ipython3",
   "version": "3.13.5"
  }
 },
 "nbformat": 4,
 "nbformat_minor": 5
}
