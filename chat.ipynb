{
 "cells": [
  {
   "cell_type": "code",
   "execution_count": null,
   "id": "e51c7628",
   "metadata": {},
   "outputs": [],
   "source": [
    "from dotenv import load_dotenv\n",
    "from openai import OpenAI\n",
    "from pyPDF2 import PdfReader\n",
    "import gradio as gr\n",
    "import os\n"
   ]
  },
  {
   "cell_type": "code",
   "execution_count": 18,
   "id": "4a6d0566",
   "metadata": {},
   "outputs": [],
   "source": [
    "load_dotenv(override=True)\n",
    "GEMINI_API_KEY = os.getenv('GOOGLE_API_KEY')\n",
    "gemini = OpenAI(base_url=\"https://generativelanguage.googleapis.com/v1beta/openai/\", api_key=\"GEMINI_API_KEY\")"
   ]
  },
  {
   "cell_type": "code",
   "execution_count": 19,
   "id": "22f383b8",
   "metadata": {},
   "outputs": [],
   "source": [
    "reader = PdfReader(\"./LinkedINProfile.pdf\")\n",
    "linkedin = \"\"\n",
    "for page in reader.pages:\n",
    "    text = page.extract_text()\n",
    "    if text:\n",
    "        linkedin += text"
   ]
  },
  {
   "cell_type": "code",
   "execution_count": 20,
   "id": "0c63eac0",
   "metadata": {},
   "outputs": [
    {
     "name": "stdout",
     "output_type": "stream",
     "text": [
      "   \n",
      "Contact\n",
      "abc\n",
      "9110197384 (Mobile)\n",
      "ashujha0994@gmail.com\n",
      "www.linkedin.com/in/ashu-jha9g\n",
      "(LinkedIn)\n",
      "github.com/ashutosh123ashu\n",
      "(Other)\n",
      "leneutron.com/ (Blog)\n",
      "Top Skills\n",
      "Git\n",
      "Jenkins\n",
      "Docker\n",
      "Certifications\n",
      "Certified SAFe® 4 DevOps\n",
      "Practitioner\n",
      "Devops Professional \n",
      "Ashutosh jha\n",
      "DevOps Engineer | AWS | Docker | Kubernetes | Terraform | Jenkins\n",
      "Gurugram, Haryana, India\n",
      "Summary\n",
      "DevOps Engineer with overall 3.8 years of IT experience,\n",
      "coordinating the efforts of product design and development with\n",
      "more business operations.\n",
      "Currently working with Infosys as Technology Analyst. Working with\n",
      "DevOps team to manage implementation of enterprise applications\n",
      "using orchestration tools like git, Jenkins, docker, Kubernetes.\n",
      "Following Agile methodology to implement the project. Team builder\n",
      "with strong analytical & interpersonal skill.\n",
      "I have hands-on experience with Azure cloud platform, BOARDS,\n",
      "AZURE PIPELINES.\n",
      "Experience\n",
      "Persistent Systems\n",
      "DevOps Engineer\n",
      "September 2024 - Present (1 year)\n",
      "Mumbai, Maharashtra, India\n",
      "Infosys\n",
      "3 years 10 months\n",
      "Technology Analyst\n",
      "April 2024 - October 2024 (7 months)\n",
      "Gurugram, Haryana, India\n",
      "Technology Analyst\n",
      "February 2024 - October 2024 (9 months)\n",
      "Senior System Engineer\n",
      "October 2022 - April 2024 (1 year 7 months)\n",
      "Bengaluru, Karnataka, India\n",
      "  Page 1 of 2   \n",
      "System Engineer\n",
      "January 2021 - October 2022 (1 year 10 months)\n",
      "Banglore\n",
      "Education\n",
      "ARYA COLLGE OF ENGINEERING AND I.T.\n",
      "Bachelor of Technology - BTech, Computer Science · (2016 - 2020)\n",
      "  Page 2 of 2\n"
     ]
    }
   ],
   "source": [
    "print (linkedin)\n",
    "\n",
    "\n"
   ]
  },
  {
   "cell_type": "code",
   "execution_count": 21,
   "id": "6f7b9715",
   "metadata": {},
   "outputs": [],
   "source": [
    "name = \"Ashutosh Jha\""
   ]
  },
  {
   "cell_type": "code",
   "execution_count": 26,
   "id": "21fc0a90",
   "metadata": {},
   "outputs": [],
   "source": [
    "system_prompt = f\"You are acting as {name}. You are answering questions on {name}'s website, \\\n",
    "particularly questions related to {name}'s career, background, skills and experience. \\\n",
    "Your responsibility is to represent {name} for interactions on the website as faithfully as possible. \\\n",
    "You are given a summary of {name}'s background and LinkedIn profile which you can use to answer questions. \\\n",
    "Be professional and engaging, as if talking to a potential client or future employer who came across the website. \\\n",
    "If you don't know the answer, say so.\"\n",
    "\n",
    "system_prompt += f\"\\n\\n## Summary:\\n{linkedin}\\n\\n## LinkedIn Profile:\\n{linkedin}\\n\\n\"\n",
    "system_prompt += f\"With this context, please chat with the user, always staying in character as {name}.\""
   ]
  },
  {
   "cell_type": "code",
   "execution_count": 23,
   "id": "ed6793a8",
   "metadata": {},
   "outputs": [
    {
     "data": {
      "text/plain": [
       "\"You are acting as Ashutosh Jha. You are answering questions on Ashutosh Jha's website, particularly questions related to Ashutosh Jha's career, background, skills and experience. Your responsibility is to represent Ashutosh Jha for interactions on the website as faithfully as possible. You are given a summary of Ashutosh Jha's background and LinkedIn profile which you can use to answer questions. Be professional and engaging, as if talking to a potential client or future employer who came across the website. If you don't know the answer, say so.\\n\\n## Summary:\\n\\xa0 \\xa0\\nContact\\nabc\\n9110197384 (Mobile)\\nashujha0994@gmail.com\\nwww.linkedin.com/in/ashu-jha9g\\n(LinkedIn)\\ngithub.com/ashutosh123ashu\\n(Other)\\nleneutron.com/ (Blog)\\nTop Skills\\nGit\\nJenkins\\nDocker\\nCertifications\\nCertified SAFe® 4 DevOps\\nPractitioner\\nDevops Professional \\nAshutosh jha\\nDevOps Engineer | AWS | Docker | Kubernetes | Terraform | Jenkins\\nGurugram, Haryana, India\\nSummary\\nDevOps Engineer with overall 3.8 years of IT experience,\\ncoordinating the efforts of product design and development with\\nmore business operations.\\nCurrently working with Infosys as Technology Analyst. Working with\\nDevOps team to manage implementation of enterprise applications\\nusing orchestration tools like git, Jenkins, docker, Kubernetes.\\nFollowing Agile methodology to implement the project. Team builder\\nwith strong analytical & interpersonal skill.\\nI have hands-on experience with Azure cloud platform, BOARDS,\\nAZURE PIPELINES.\\nExperience\\nPersistent Systems\\nDevOps Engineer\\nSeptember 2024\\xa0-\\xa0Present\\xa0(1 year)\\nMumbai, Maharashtra, India\\nInfosys\\n3 years 10 months\\nTechnology Analyst\\nApril 2024\\xa0-\\xa0October 2024\\xa0(7 months)\\nGurugram, Haryana, India\\nTechnology Analyst\\nFebruary 2024\\xa0-\\xa0October 2024\\xa0(9 months)\\nSenior System Engineer\\nOctober 2022\\xa0-\\xa0April 2024\\xa0(1 year 7 months)\\nBengaluru, Karnataka, India\\n\\xa0 Page 1 of 2\\xa0 \\xa0\\nSystem Engineer\\nJanuary 2021\\xa0-\\xa0October 2022\\xa0(1 year 10 months)\\nBanglore\\nEducation\\nARYA COLLGE OF ENGINEERING AND I.T.\\nBachelor of Technology - BTech,\\xa0Computer Science\\xa0·\\xa0(2016\\xa0-\\xa02020)\\n\\xa0 Page 2 of 2\\n\\n## LinkedIn Profile:\\n\\xa0 \\xa0\\nContact\\nabc\\n9110197384 (Mobile)\\nashujha0994@gmail.com\\nwww.linkedin.com/in/ashu-jha9g\\n(LinkedIn)\\ngithub.com/ashutosh123ashu\\n(Other)\\nleneutron.com/ (Blog)\\nTop Skills\\nGit\\nJenkins\\nDocker\\nCertifications\\nCertified SAFe® 4 DevOps\\nPractitioner\\nDevops Professional \\nAshutosh jha\\nDevOps Engineer | AWS | Docker | Kubernetes | Terraform | Jenkins\\nGurugram, Haryana, India\\nSummary\\nDevOps Engineer with overall 3.8 years of IT experience,\\ncoordinating the efforts of product design and development with\\nmore business operations.\\nCurrently working with Infosys as Technology Analyst. Working with\\nDevOps team to manage implementation of enterprise applications\\nusing orchestration tools like git, Jenkins, docker, Kubernetes.\\nFollowing Agile methodology to implement the project. Team builder\\nwith strong analytical & interpersonal skill.\\nI have hands-on experience with Azure cloud platform, BOARDS,\\nAZURE PIPELINES.\\nExperience\\nPersistent Systems\\nDevOps Engineer\\nSeptember 2024\\xa0-\\xa0Present\\xa0(1 year)\\nMumbai, Maharashtra, India\\nInfosys\\n3 years 10 months\\nTechnology Analyst\\nApril 2024\\xa0-\\xa0October 2024\\xa0(7 months)\\nGurugram, Haryana, India\\nTechnology Analyst\\nFebruary 2024\\xa0-\\xa0October 2024\\xa0(9 months)\\nSenior System Engineer\\nOctober 2022\\xa0-\\xa0April 2024\\xa0(1 year 7 months)\\nBengaluru, Karnataka, India\\n\\xa0 Page 1 of 2\\xa0 \\xa0\\nSystem Engineer\\nJanuary 2021\\xa0-\\xa0October 2022\\xa0(1 year 10 months)\\nBanglore\\nEducation\\nARYA COLLGE OF ENGINEERING AND I.T.\\nBachelor of Technology - BTech,\\xa0Computer Science\\xa0·\\xa0(2016\\xa0-\\xa02020)\\n\\xa0 Page 2 of 2\\n\\nWith this context, please chat with the user, always staying in character as Ashutosh Jha.\""
      ]
     },
     "execution_count": 23,
     "metadata": {},
     "output_type": "execute_result"
    }
   ],
   "source": [
    "\n",
    "system_prompt\n",
    "            "
   ]
  },
  {
   "cell_type": "code",
   "execution_count": 24,
   "id": "f8bdc8b0",
   "metadata": {},
   "outputs": [],
   "source": [
    "def chat(message, history):\n",
    "    messages=[{\"role\": \"system\", \"content\":system_prompt}] + history +[{\"role\": \"user\", \"content\":message}]\n",
    "    response= gemini.chat.completions.create(model=\"gemini-2.0-flash\", messages=messages)\n",
    "    return response.choices[0].message.content"
   ]
  },
  {
   "cell_type": "code",
   "execution_count": 27,
   "id": "0c96b22d",
   "metadata": {},
   "outputs": [
    {
     "name": "stdout",
     "output_type": "stream",
     "text": [
      "* Running on local URL:  http://127.0.0.1:7862\n",
      "* To create a public link, set `share=True` in `launch()`.\n"
     ]
    },
    {
     "data": {
      "text/html": [
       "<div><iframe src=\"http://127.0.0.1:7862/\" width=\"100%\" height=\"500\" allow=\"autoplay; camera; microphone; clipboard-read; clipboard-write;\" frameborder=\"0\" allowfullscreen></iframe></div>"
      ],
      "text/plain": [
       "<IPython.core.display.HTML object>"
      ]
     },
     "metadata": {},
     "output_type": "display_data"
    },
    {
     "data": {
      "text/plain": []
     },
     "execution_count": 27,
     "metadata": {},
     "output_type": "execute_result"
    },
    {
     "name": "stderr",
     "output_type": "stream",
     "text": [
      "Traceback (most recent call last):\n",
      "  File \"c:\\Users\\kumar\\projects\\chatBot\\.venv\\Lib\\site-packages\\gradio\\queueing.py\", line 626, in process_events\n",
      "    response = await route_utils.call_process_api(\n",
      "               ^^^^^^^^^^^^^^^^^^^^^^^^^^^^^^^^^^^\n",
      "    ...<5 lines>...\n",
      "    )\n",
      "    ^\n",
      "  File \"c:\\Users\\kumar\\projects\\chatBot\\.venv\\Lib\\site-packages\\gradio\\route_utils.py\", line 350, in call_process_api\n",
      "    output = await app.get_blocks().process_api(\n",
      "             ^^^^^^^^^^^^^^^^^^^^^^^^^^^^^^^^^^^\n",
      "    ...<11 lines>...\n",
      "    )\n",
      "    ^\n",
      "  File \"c:\\Users\\kumar\\projects\\chatBot\\.venv\\Lib\\site-packages\\gradio\\blocks.py\", line 2250, in process_api\n",
      "    result = await self.call_function(\n",
      "             ^^^^^^^^^^^^^^^^^^^^^^^^^\n",
      "    ...<8 lines>...\n",
      "    )\n",
      "    ^\n",
      "  File \"c:\\Users\\kumar\\projects\\chatBot\\.venv\\Lib\\site-packages\\gradio\\blocks.py\", line 1755, in call_function\n",
      "    prediction = await fn(*processed_input)\n",
      "                 ^^^^^^^^^^^^^^^^^^^^^^^^^^\n",
      "  File \"c:\\Users\\kumar\\projects\\chatBot\\.venv\\Lib\\site-packages\\gradio\\utils.py\", line 884, in async_wrapper\n",
      "    response = await f(*args, **kwargs)\n",
      "               ^^^^^^^^^^^^^^^^^^^^^^^^\n",
      "  File \"c:\\Users\\kumar\\projects\\chatBot\\.venv\\Lib\\site-packages\\gradio\\chat_interface.py\", line 551, in __wrapper\n",
      "    return await submit_fn(*args, **kwargs)\n",
      "           ^^^^^^^^^^^^^^^^^^^^^^^^^^^^^^^^\n",
      "  File \"c:\\Users\\kumar\\projects\\chatBot\\.venv\\Lib\\site-packages\\gradio\\chat_interface.py\", line 925, in _submit_fn\n",
      "    response = await anyio.to_thread.run_sync(\n",
      "               ^^^^^^^^^^^^^^^^^^^^^^^^^^^^^^^\n",
      "        self.fn, *inputs, limiter=self.limiter\n",
      "        ^^^^^^^^^^^^^^^^^^^^^^^^^^^^^^^^^^^^^^\n",
      "    )\n",
      "    ^\n",
      "  File \"c:\\Users\\kumar\\projects\\chatBot\\.venv\\Lib\\site-packages\\anyio\\to_thread.py\", line 56, in run_sync\n",
      "    return await get_async_backend().run_sync_in_worker_thread(\n",
      "           ^^^^^^^^^^^^^^^^^^^^^^^^^^^^^^^^^^^^^^^^^^^^^^^^^^^^\n",
      "        func, args, abandon_on_cancel=abandon_on_cancel, limiter=limiter\n",
      "        ^^^^^^^^^^^^^^^^^^^^^^^^^^^^^^^^^^^^^^^^^^^^^^^^^^^^^^^^^^^^^^^^\n",
      "    )\n",
      "    ^\n",
      "  File \"c:\\Users\\kumar\\projects\\chatBot\\.venv\\Lib\\site-packages\\anyio\\_backends\\_asyncio.py\", line 2476, in run_sync_in_worker_thread\n",
      "    return await future\n",
      "           ^^^^^^^^^^^^\n",
      "  File \"c:\\Users\\kumar\\projects\\chatBot\\.venv\\Lib\\site-packages\\anyio\\_backends\\_asyncio.py\", line 967, in run\n",
      "    result = context.run(func, *args)\n",
      "  File \"C:\\Users\\kumar\\AppData\\Local\\Temp\\ipykernel_24124\\2206072814.py\", line 3, in chat\n",
      "    response= gemini.chat.completions.create(model=\"gemini-2.0-flash\", messages=messages)\n",
      "  File \"c:\\Users\\kumar\\projects\\chatBot\\.venv\\Lib\\site-packages\\openai\\_utils\\_utils.py\", line 287, in wrapper\n",
      "    return func(*args, **kwargs)\n",
      "  File \"c:\\Users\\kumar\\projects\\chatBot\\.venv\\Lib\\site-packages\\openai\\resources\\chat\\completions\\completions.py\", line 1150, in create\n",
      "    return self._post(\n",
      "           ~~~~~~~~~~^\n",
      "        \"/chat/completions\",\n",
      "        ^^^^^^^^^^^^^^^^^^^^\n",
      "    ...<46 lines>...\n",
      "        stream_cls=Stream[ChatCompletionChunk],\n",
      "        ^^^^^^^^^^^^^^^^^^^^^^^^^^^^^^^^^^^^^^^\n",
      "    )\n",
      "    ^\n",
      "  File \"c:\\Users\\kumar\\projects\\chatBot\\.venv\\Lib\\site-packages\\openai\\_base_client.py\", line 1259, in post\n",
      "    return cast(ResponseT, self.request(cast_to, opts, stream=stream, stream_cls=stream_cls))\n",
      "                           ~~~~~~~~~~~~^^^^^^^^^^^^^^^^^^^^^^^^^^^^^^^^^^^^^^^^^^^^^^^^^^^^^\n",
      "  File \"c:\\Users\\kumar\\projects\\chatBot\\.venv\\Lib\\site-packages\\openai\\_base_client.py\", line 1047, in request\n",
      "    raise self._make_status_error_from_response(err.response) from None\n",
      "openai.BadRequestError: Error code: 400 - [{'error': {'code': 400, 'message': 'API key not valid. Please pass a valid API key.', 'status': 'INVALID_ARGUMENT', 'details': [{'@type': 'type.googleapis.com/google.rpc.ErrorInfo', 'reason': 'API_KEY_INVALID', 'domain': 'googleapis.com', 'metadata': {'service': 'generativelanguage.googleapis.com'}}, {'@type': 'type.googleapis.com/google.rpc.LocalizedMessage', 'locale': 'en-US', 'message': 'API key not valid. Please pass a valid API key.'}]}}]\n"
     ]
    }
   ],
   "source": [
    "gr.ChatInterface(chat, type=\"messages\").launch()\n"
   ]
  },
  {
   "cell_type": "code",
   "execution_count": null,
   "id": "aec6e542",
   "metadata": {},
   "outputs": [],
   "source": []
  }
 ],
 "metadata": {
  "kernelspec": {
   "display_name": ".venv",
   "language": "python",
   "name": "python3"
  },
  "language_info": {
   "codemirror_mode": {
    "name": "ipython",
    "version": 3
   },
   "file_extension": ".py",
   "mimetype": "text/x-python",
   "name": "python",
   "nbconvert_exporter": "python",
   "pygments_lexer": "ipython3",
   "version": "3.13.5"
  }
 },
 "nbformat": 4,
 "nbformat_minor": 5
}
